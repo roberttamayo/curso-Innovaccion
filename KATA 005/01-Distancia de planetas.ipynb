{
 "cells": [
  {
   "cell_type": "markdown",
   "metadata": {},
   "source": [
    "Distancia entre planetas"
   ]
  },
  {
   "cell_type": "code",
   "execution_count": 9,
   "metadata": {},
   "outputs": [
    {
     "name": "stdout",
     "output_type": "stream",
     "text": [
      "distancia en kilometros: 628949330\n",
      "distancia en millas: 1012195830.53952\n"
     ]
    }
   ],
   "source": [
    "DistanciaTierra = 149597870 #kilometros\n",
    "DistanciaJupiter = 778547200 #Kilometros\n",
    "\n",
    "resultado = DistanciaJupiter - DistanciaTierra\n",
    "\n",
    "print(\"distancia en kilometros: \"+ str(abs(resultado)))\n",
    "#comvertido en millas\n",
    "print(\"distancia en millas: \"+ str(abs(resultado * 1.609344)))\n"
   ]
  }
 ],
 "metadata": {
  "interpreter": {
   "hash": "955184dd8271d920039dcc5e23218c87b56951df83fd81a4fdd9168448416158"
  },
  "kernelspec": {
   "display_name": "Python 3.10.2 64-bit",
   "language": "python",
   "name": "python3"
  },
  "language_info": {
   "codemirror_mode": {
    "name": "ipython",
    "version": 3
   },
   "file_extension": ".py",
   "mimetype": "text/x-python",
   "name": "python",
   "nbconvert_exporter": "python",
   "pygments_lexer": "ipython3",
   "version": "3.10.2"
  },
  "orig_nbformat": 4
 },
 "nbformat": 4,
 "nbformat_minor": 2
}
