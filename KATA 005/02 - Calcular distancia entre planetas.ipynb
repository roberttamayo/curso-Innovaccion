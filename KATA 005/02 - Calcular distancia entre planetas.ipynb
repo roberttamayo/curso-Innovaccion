{
 "cells": [
  {
   "cell_type": "markdown",
   "metadata": {},
   "source": [
    "Calcular distancia entre planetas"
   ]
  },
  {
   "cell_type": "code",
   "execution_count": 3,
   "metadata": {},
   "outputs": [
    {
     "name": "stdout",
     "output_type": "stream",
     "text": [
      "Muy bien r La distancia entre los dos planetas en kms es: 5\n"
     ]
    }
   ],
   "source": [
    "Nombre = input(\"¿Dime tu nombre?\")\n",
    "Planeta1 = input(\"Distancia del primer planeta conforme al sol: \")\n",
    "planeta2 = input(\"Distancia del segundo planeta conforme al sol: \")\n",
    "\n",
    "print(\"Muy bien \"+ Nombre +\" La distancia entre los dos planetas en kms es: \" + str(abs(int(Planeta1) - int(planeta2))))"
   ]
  }
 ],
 "metadata": {
  "interpreter": {
   "hash": "955184dd8271d920039dcc5e23218c87b56951df83fd81a4fdd9168448416158"
  },
  "kernelspec": {
   "display_name": "Python 3.10.2 64-bit",
   "language": "python",
   "name": "python3"
  },
  "language_info": {
   "codemirror_mode": {
    "name": "ipython",
    "version": 3
   },
   "file_extension": ".py",
   "mimetype": "text/x-python",
   "name": "python",
   "nbconvert_exporter": "python",
   "pygments_lexer": "ipython3",
   "version": "3.10.2"
  },
  "orig_nbformat": 4
 },
 "nbformat": 4,
 "nbformat_minor": 2
}
