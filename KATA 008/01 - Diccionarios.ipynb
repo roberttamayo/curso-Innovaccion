{
 "cells": [
  {
   "cell_type": "markdown",
   "metadata": {},
   "source": [
    "Uso de Diccionarios"
   ]
  },
  {
   "cell_type": "code",
   "execution_count": 4,
   "metadata": {},
   "outputs": [
    {
     "name": "stdout",
     "output_type": "stream",
     "text": [
      "el nombre del planeta es :Marte\n",
      "el numero de lunas es :2\n",
      "el nombre del planeta es :Marte\n",
      "la circunferencia polar es:578943.09\n"
     ]
    }
   ],
   "source": [
    "diccionario_planeta = {\n",
    "    \"nombre\": \"Marte\",\n",
    "    \"gravedad\": 9.8,\n",
    "    \"temperatura\": 15,\n",
    "    \"numSatelites\": 2,\n",
    "    \"satelites\": [\"Satélite 1\", \"Satélite 2\"],\n",
    "    \"orbita\": 48.5,\n",
    "}\n",
    "print(\"el nombre del planeta es :\" + diccionario_planeta.get(\"nombre\"))\n",
    "print(\"el numero de lunas es :\" + str(diccionario_planeta.get(\"numSatelites\")))\n",
    "diccionario_planeta[\"Circunferencia_polar\"] = 5000.09\n",
    "diccionario_planeta[\"Circunferencia_equatorial\"] = 120000\n",
    "print(\"el nombre del planeta es :\" + diccionario_planeta.get(\"nombre\"))\n",
    "print(\"la circunferencia polar es:\" + str(diccionario_planeta.get(\"Circunferencia_polar\")))"
   ]
  }
 ],
 "metadata": {
  "interpreter": {
   "hash": "da048bf40da7aee62b36dc47b6b40dcc2e039c8db37002f81ae9df102ef7b913"
  },
  "kernelspec": {
   "display_name": "Python 3.10.2 64-bit (windows store)",
   "language": "python",
   "name": "python3"
  },
  "language_info": {
   "codemirror_mode": {
    "name": "ipython",
    "version": 3
   },
   "file_extension": ".py",
   "mimetype": "text/x-python",
   "name": "python",
   "nbconvert_exporter": "python",
   "pygments_lexer": "ipython3",
   "version": "3.10.2"
  },
  "orig_nbformat": 4
 },
 "nbformat": 4,
 "nbformat_minor": 2
}
