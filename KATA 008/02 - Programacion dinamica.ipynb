{
 "cells": [
  {
   "cell_type": "markdown",
   "metadata": {},
   "source": [
    "Programacion dinamica con diccionarios"
   ]
  },
  {
   "cell_type": "code",
   "execution_count": 1,
   "metadata": {},
   "outputs": [
    {
     "name": "stdout",
     "output_type": "stream",
     "text": [
      "las lunas totales del sistemas son 54\n",
      "el promedio de lunas por planeta es 6.0\n"
     ]
    }
   ],
   "source": [
    "lunas_sistema = {\n",
    "    \"mercurio\": 0,\n",
    "    \"venus\": 0,\n",
    "    \"tierra\": 1,\n",
    "    \"marte\": 2,\n",
    "    \"jupiter\": 4,\n",
    "    \"saturno\": 8,\n",
    "    \"urano\": 16,\n",
    "    \"neptuno\": 15,\n",
    "    \"pluton\": 8,\n",
    "}\n",
    "lunas_valor = lunas_sistema.values()\n",
    "planetas_lunas = len(lunas_sistema.keys())\n",
    "\n",
    "lunas_totales = 0\n",
    "for luna in lunas_valor:\n",
    "    lunas_totales += luna\n",
    "\n",
    "lunas_promedio = lunas_totales/planetas_lunas\n",
    "\n",
    "print(\"las lunas totales del sistemas son \" + str(lunas_totales))\n",
    "print(\"el promedio de lunas por planeta es \" + str(lunas_promedio))"
   ]
  }
 ],
 "metadata": {
  "interpreter": {
   "hash": "da048bf40da7aee62b36dc47b6b40dcc2e039c8db37002f81ae9df102ef7b913"
  },
  "kernelspec": {
   "display_name": "Python 3.10.2 64-bit (windows store)",
   "language": "python",
   "name": "python3"
  },
  "language_info": {
   "codemirror_mode": {
    "name": "ipython",
    "version": 3
   },
   "file_extension": ".py",
   "mimetype": "text/x-python",
   "name": "python",
   "nbconvert_exporter": "python",
   "pygments_lexer": "ipython3",
   "version": "3.10.2"
  },
  "orig_nbformat": 4
 },
 "nbformat": 4,
 "nbformat_minor": 2
}
