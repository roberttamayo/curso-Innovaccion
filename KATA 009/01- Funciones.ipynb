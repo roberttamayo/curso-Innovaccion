{
 "cells": [
  {
   "cell_type": "markdown",
   "metadata": {},
   "source": [
    "Funciones"
   ]
  },
  {
   "cell_type": "code",
   "execution_count": 3,
   "metadata": {},
   "outputs": [
    {
     "name": "stdout",
     "output_type": "stream",
     "text": [
      "Reporte de tanques el promedio de los tanques es: 20.0\n",
      "Reporte de tanques el promedio de los tanques es: (Actualizada) 50.0\n"
     ]
    }
   ],
   "source": [
    "def promedio(tanque1, tanque2, tanque3):\n",
    "    return (tanque1 + tanque2 + tanque3) / 3\n",
    "\n",
    "def generar_reporte(p1, p2, p3):\n",
    "    print(\"Reporte de tanques el promedio de los tanques es:\", promedio(p1, p2, p3))\n",
    "\n",
    "generar_reporte(10, 20, 30)\n",
    "\n",
    "def generar_reporte(p1, p2, p3):\n",
    "    print(\"Reporte de tanques el promedio de los tanques es: (Actualizada)\", promedio(p1, p2, p3))\n",
    "\n",
    "generar_reporte(40, 50, 60)"
   ]
  }
 ],
 "metadata": {
  "interpreter": {
   "hash": "da048bf40da7aee62b36dc47b6b40dcc2e039c8db37002f81ae9df102ef7b913"
  },
  "kernelspec": {
   "display_name": "Python 3.10.2 64-bit (windows store)",
   "language": "python",
   "name": "python3"
  },
  "language_info": {
   "codemirror_mode": {
    "name": "ipython",
    "version": 3
   },
   "file_extension": ".py",
   "mimetype": "text/x-python",
   "name": "python",
   "nbconvert_exporter": "python",
   "pygments_lexer": "ipython3",
   "version": "3.10.2"
  },
  "orig_nbformat": 4
 },
 "nbformat": 4,
 "nbformat_minor": 2
}
