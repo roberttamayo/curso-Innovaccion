{
 "cells": [
  {
   "cell_type": "markdown",
   "metadata": {},
   "source": [
    "Trabajo con argumentos de palabra clave"
   ]
  },
  {
   "cell_type": "code",
   "execution_count": 2,
   "metadata": {},
   "outputs": [
    {
     "name": "stdout",
     "output_type": "stream",
     "text": [
      "\n",
      "    Misión: Explorar el universo\n",
      "    Hora de salida: 12:00\n",
      "    Tiempo de viaje estimado: 1 año luz\n",
      "    Destino: Andromeda\n",
      "    Tanque de puesta en orbita: 15000\n",
      "    Tanque para viaje y maniobras: 1000000\n",
      "\n",
      "    Misión: luna\n",
      "    lugar de lasida: ()\n",
      "    cuantas personas en mision: {'salida': 'mexico', 'personas': {'juan': 'piloto', 'pedro': 'piloto', 'jose': 'piloto'}}\n"
     ]
    }
   ],
   "source": [
    "def reporte_mision(mision, hora_salida, tiempo_viaje_estimado, destino, tanque1, tanque2):\n",
    "    return f\"\"\"\n",
    "    Misión: {mision}\n",
    "    Hora de salida: {hora_salida}\n",
    "    Tiempo de viaje estimado: {tiempo_viaje_estimado}\n",
    "    Destino: {destino}\n",
    "    Tanque de puesta en orbita: {tanque1}\n",
    "    Tanque para viaje y maniobras: {tanque2}\"\"\"\n",
    "\n",
    "print(reporte_mision(\"Explorar el universo\", \"12:00\", \"1 año luz\", \"Andromeda\", \"15000\", \"1000000\"))\n",
    "\n",
    "def reporte_mision(mision, *salida, **personas):\n",
    "    return f\"\"\"\n",
    "    Misión: {mision}\n",
    "    lugar de lasida: {salida}\n",
    "    cuantas personas en mision: {personas}\"\"\"\n",
    "\n",
    "print(reporte_mision(\"luna\",salida=\"mexico\",personas={\"juan\": \"Sientifico\", \"pedro\": \"sistemas\", \"jose\": \"piloto\"}))"
   ]
  }
 ],
 "metadata": {
  "interpreter": {
   "hash": "da048bf40da7aee62b36dc47b6b40dcc2e039c8db37002f81ae9df102ef7b913"
  },
  "kernelspec": {
   "display_name": "Python 3.10.2 64-bit (windows store)",
   "language": "python",
   "name": "python3"
  },
  "language_info": {
   "codemirror_mode": {
    "name": "ipython",
    "version": 3
   },
   "file_extension": ".py",
   "mimetype": "text/x-python",
   "name": "python",
   "nbconvert_exporter": "python",
   "pygments_lexer": "ipython3",
   "version": "3.10.2"
  },
  "orig_nbformat": 4
 },
 "nbformat": 4,
 "nbformat_minor": 2
}
