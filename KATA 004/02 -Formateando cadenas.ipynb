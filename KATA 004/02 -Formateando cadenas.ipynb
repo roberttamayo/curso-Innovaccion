{
 "cells": [
  {
   "cell_type": "markdown",
   "metadata": {},
   "source": [
    "Formateando Cadenas"
   ]
  },
  {
   "cell_type": "code",
   "execution_count": 5,
   "metadata": {},
   "outputs": [
    {
     "name": "stdout",
     "output_type": "stream",
     "text": [
      "Gravedad De Cuerpos Celestes Y Sus Lunas \n",
      "-------------------------------------------------------------------------------- \n",
      "Nombre del planeta: Tierra \n",
      "Gravedad en Luna: 1.6199999999999999 m/s^2 \n",
      " \n",
      "\n"
     ]
    }
   ],
   "source": [
    "nombre = \"Luna\"\n",
    "gravedad = 0.00162\n",
    "planeta = \"Tierra\"\n",
    "Titulo = \"Gravedad de cuerpos celestes y sus lunas\"\n",
    "\n",
    "\n",
    "Plantilla01 = f\"\"\"{'-'*80} \n",
    "Nombre del planeta: {planeta} \n",
    "Gravedad en {nombre}: {gravedad * 1000} m/s^2 \n",
    "\"\"\"\n",
    "Plantilla02 = f\"\"\"{Titulo.title()} \n",
    "{Plantilla01} \n",
    "\"\"\" \n",
    "print(Plantilla02)"
   ]
  }
 ],
 "metadata": {
  "interpreter": {
   "hash": "955184dd8271d920039dcc5e23218c87b56951df83fd81a4fdd9168448416158"
  },
  "kernelspec": {
   "display_name": "Python 3.10.2 64-bit",
   "language": "python",
   "name": "python3"
  },
  "language_info": {
   "codemirror_mode": {
    "name": "ipython",
    "version": 3
   },
   "file_extension": ".py",
   "mimetype": "text/x-python",
   "name": "python",
   "nbconvert_exporter": "python",
   "pygments_lexer": "ipython3",
   "version": "3.10.2"
  },
  "orig_nbformat": 4
 },
 "nbformat": 4,
 "nbformat_minor": 2
}
