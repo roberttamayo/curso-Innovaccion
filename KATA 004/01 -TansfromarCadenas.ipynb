{
 "cells": [
  {
   "cell_type": "markdown",
   "metadata": {},
   "source": [
    "Cadenas"
   ]
  },
  {
   "cell_type": "code",
   "execution_count": 2,
   "metadata": {},
   "outputs": [
    {
     "name": "stdout",
     "output_type": "stream",
     "text": [
      "average,\n",
      "temperature\n",
      "average,\n",
      "temperature\n"
     ]
    }
   ],
   "source": [
    "Cadena = \"\"\"Interesting facts about the Moon. The Moon is Earth's only satellite. There are several interesting facts about the Moon and how it affects life here on Earth. On average, the Moon moves 4cm away from the Earth every year. This yearly drift is not significant enough to cause immediate effects on Earth. The highest daylight temperature of the Moon is 127 C.\"\"\"\n",
    "\n",
    "Claves = [\"average\", \"temperature\", \"distance\"]\n",
    "\n",
    "grados = \"C\"\n",
    "\n",
    "palabras = Cadena.split(\" \")\n",
    "\n",
    "for PalabraEnCurso in palabras:\n",
    "    for palabraclave in Claves:\n",
    "        if palabraclave in PalabraEnCurso:\n",
    "            print(PalabraEnCurso)\n",
    "            break\n",
    "\n",
    "for PalabraEnCurso in palabras:\n",
    "    for palabraclave in Claves:\n",
    "        if palabraclave in PalabraEnCurso:\n",
    "            print(PalabraEnCurso.replace(\" C\",\"Celcius\"))\n",
    "            break"
   ]
  }
 ],
 "metadata": {
  "interpreter": {
   "hash": "955184dd8271d920039dcc5e23218c87b56951df83fd81a4fdd9168448416158"
  },
  "kernelspec": {
   "display_name": "Python 3.10.2 64-bit",
   "language": "python",
   "name": "python3"
  },
  "language_info": {
   "codemirror_mode": {
    "name": "ipython",
    "version": 3
   },
   "file_extension": ".py",
   "mimetype": "text/x-python",
   "name": "python",
   "nbconvert_exporter": "python",
   "pygments_lexer": "ipython3",
   "version": "3.10.2"
  },
  "orig_nbformat": 4
 },
 "nbformat": 4,
 "nbformat_minor": 2
}
