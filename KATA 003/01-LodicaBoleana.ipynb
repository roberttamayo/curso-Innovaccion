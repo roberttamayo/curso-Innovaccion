{
 "cells": [
  {
   "cell_type": "markdown",
   "metadata": {},
   "source": [
    "Logica Boleana"
   ]
  },
  {
   "cell_type": "code",
   "execution_count": 2,
   "metadata": {},
   "outputs": [
    {
     "name": "stdout",
     "output_type": "stream",
     "text": [
      "Mira al cielo, hoy abrá un cometa!\n"
     ]
    }
   ],
   "source": [
    "Velocidad_asteroide = 40\n",
    "tam_asteroide = 25\n",
    "if Velocidad_asteroide > 40 and tam_asteroide >= 28:\n",
    "    print(\"Alerta Un asteroide impactara contra la tierra, Envien misiles\")\n",
    "elif Velocidad_asteroide > 20 and tam_asteroide > 10:\n",
    "    print(\"Mira al cielo, hoy abrá un cometa!\")\n",
    "else:\n",
    "    print(\"Hoy no se podra ver nada el cielo esta nublado!\")\n",
    "    "
   ]
  }
 ],
 "metadata": {
  "interpreter": {
   "hash": "955184dd8271d920039dcc5e23218c87b56951df83fd81a4fdd9168448416158"
  },
  "kernelspec": {
   "display_name": "Python 3.10.2 64-bit",
   "language": "python",
   "name": "python3"
  },
  "language_info": {
   "codemirror_mode": {
    "name": "ipython",
    "version": 3
   },
   "file_extension": ".py",
   "mimetype": "text/x-python",
   "name": "python",
   "nbconvert_exporter": "python",
   "pygments_lexer": "ipython3",
   "version": "3.10.2"
  },
  "orig_nbformat": 4
 },
 "nbformat": 4,
 "nbformat_minor": 2
}
