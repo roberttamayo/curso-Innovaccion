{
 "cells": [
  {
   "cell_type": "markdown",
   "metadata": {},
   "source": [
    "Trabajando y manupulando las listas"
   ]
  },
  {
   "cell_type": "code",
   "execution_count": 8,
   "metadata": {},
   "outputs": [
    {
     "name": "stdout",
     "output_type": "stream",
     "text": [
      "Los planetas mas cercanos al sol del buscado buscado: Tierrason:\n",
      "['Mercurio', 'Venus']\n",
      "Los planetas mas Lejanos al sol del buscado buscado: Tierrason:\n",
      "['Marte', 'Jupiter', 'Saturno', 'Neptuno', 'Pluton']\n"
     ]
    }
   ],
   "source": [
    "Planetas = [\"Mercurio\", \"Venus\", \"Tierra\", \"Marte\",\"Jupiter\",\"Saturno\",\"Neptuno\",\"Pluton\"]\n",
    "BuscarPlaneta = input(\"Dame el nombre de un planeta, recuerda colocar la primer letra en mayusculas\")\n",
    "indiceDeplaneta = Planetas.index(BuscarPlaneta)\n",
    "print(\"Los planetas mas cercanos al sol del buscado buscado: \" + BuscarPlaneta + \"son:\")\n",
    "print(Planetas[0:indiceDeplaneta])\n",
    "print(\"Los planetas mas Lejanos al sol del buscado buscado: \" + BuscarPlaneta + \"son:\")\n",
    "print(Planetas[indiceDeplaneta+1:])"
   ]
  }
 ],
 "metadata": {
  "interpreter": {
   "hash": "955184dd8271d920039dcc5e23218c87b56951df83fd81a4fdd9168448416158"
  },
  "kernelspec": {
   "display_name": "Python 3.10.2 64-bit",
   "language": "python",
   "name": "python3"
  },
  "language_info": {
   "codemirror_mode": {
    "name": "ipython",
    "version": 3
   },
   "file_extension": ".py",
   "mimetype": "text/x-python",
   "name": "python",
   "nbconvert_exporter": "python",
   "pygments_lexer": "ipython3",
   "version": "3.10.2"
  },
  "orig_nbformat": 4
 },
 "nbformat": 4,
 "nbformat_minor": 2
}
