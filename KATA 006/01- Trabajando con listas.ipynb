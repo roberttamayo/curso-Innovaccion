{
 "cells": [
  {
   "cell_type": "markdown",
   "metadata": {},
   "source": [
    "Listas en Phyton"
   ]
  },
  {
   "cell_type": "code",
   "execution_count": 6,
   "metadata": {},
   "outputs": [
    {
     "name": "stdout",
     "output_type": "stream",
     "text": [
      "['Mercurio', 'Venus', 'Tierra', 'Marte', 'Jupiter', 'Saturno', 'Neptuno']\n",
      "8\n",
      "El ultimo planeta es:Pluton\n"
     ]
    }
   ],
   "source": [
    "Planetas = [\"Mercurio\", \"Venus\", \"Tierra\", \"Marte\",\"Jupiter\",\"Saturno\",\"Neptuno\"]\n",
    "print(Planetas)\n",
    "Planetas.append(\"Pluton\")\n",
    "print(len(Planetas))\n",
    "print(\"El ultimo planeta es:\" + str(Planetas[(len(Planetas)-1)]))"
   ]
  }
 ],
 "metadata": {
  "interpreter": {
   "hash": "955184dd8271d920039dcc5e23218c87b56951df83fd81a4fdd9168448416158"
  },
  "kernelspec": {
   "display_name": "Python 3.10.2 64-bit",
   "language": "python",
   "name": "python3"
  },
  "language_info": {
   "codemirror_mode": {
    "name": "ipython",
    "version": 3
   },
   "file_extension": ".py",
   "mimetype": "text/x-python",
   "name": "python",
   "nbconvert_exporter": "python",
   "pygments_lexer": "ipython3",
   "version": "3.10.2"
  },
  "orig_nbformat": 4
 },
 "nbformat": 4,
 "nbformat_minor": 2
}
