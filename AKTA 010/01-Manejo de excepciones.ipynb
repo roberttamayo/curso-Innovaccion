{
 "cells": [
  {
   "cell_type": "markdown",
   "metadata": {},
   "source": [
    "Manejo de excepciones"
   ]
  },
  {
   "cell_type": "code",
   "execution_count": 6,
   "metadata": {},
   "outputs": [
    {
     "name": "stdout",
     "output_type": "stream",
     "text": [
      "Verifica el archivo de configuración, no existe o fue movido\n"
     ]
    }
   ],
   "source": [
    "def main():\n",
    "    try:\n",
    "        configuracion = open('../../config/configuracion_archivo.txt')\n",
    "    except FileNotFoundError:\n",
    "        print(\"Verifica el archivo de configuración, no existe o fue movido\")\n",
    "    except IsADirectoryError:\n",
    "        print(\"Imposible acceder a la direcciond el archivo de configuración\")\n",
    "    except (BlockingIOError, TimeoutError):\n",
    "        print(\"El archivo de configuración está bloqueado, ya que hay otra aplicacion usando el archivo de configuración\")\n",
    "\n",
    "\n",
    "if __name__ == '__main__':\n",
    "    main()"
   ]
  }
 ],
 "metadata": {
  "interpreter": {
   "hash": "da048bf40da7aee62b36dc47b6b40dcc2e039c8db37002f81ae9df102ef7b913"
  },
  "kernelspec": {
   "display_name": "Python 3.10.2 64-bit (windows store)",
   "language": "python",
   "name": "python3"
  },
  "language_info": {
   "codemirror_mode": {
    "name": "ipython",
    "version": 3
   },
   "file_extension": ".py",
   "mimetype": "text/x-python",
   "name": "python",
   "nbconvert_exporter": "python",
   "pygments_lexer": "ipython3",
   "version": "3.10.2"
  },
  "orig_nbformat": 4
 },
 "nbformat": 4,
 "nbformat_minor": 2
}
