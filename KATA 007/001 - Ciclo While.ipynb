{
 "cells": [
  {
   "cell_type": "markdown",
   "metadata": {},
   "source": [
    "Ciclo While"
   ]
  },
  {
   "cell_type": "code",
   "execution_count": 1,
   "metadata": {},
   "outputs": [
    {
     "name": "stdout",
     "output_type": "stream",
     "text": [
      "Los planetas son: ['planeta 1', 'Planeta 2', 'planeta 3']\n"
     ]
    }
   ],
   "source": [
    "planeta_nuevo = \"\"\n",
    "array_planetas = []\n",
    "while planeta_nuevo != \"FIN\":\n",
    "    if planeta_nuevo:\n",
    "        array_planetas.append(planeta_nuevo)\n",
    "    planeta_nuevo = input(\"Introduce un planeta: \")\n",
    "print(\"Los planetas son:\", array_planetas)\n"
   ]
  }
 ],
 "metadata": {
  "interpreter": {
   "hash": "da048bf40da7aee62b36dc47b6b40dcc2e039c8db37002f81ae9df102ef7b913"
  },
  "kernelspec": {
   "display_name": "Python 3.10.2 64-bit (windows store)",
   "language": "python",
   "name": "python3"
  },
  "language_info": {
   "codemirror_mode": {
    "name": "ipython",
    "version": 3
   },
   "file_extension": ".py",
   "mimetype": "text/x-python",
   "name": "python",
   "nbconvert_exporter": "python",
   "pygments_lexer": "ipython3",
   "version": "3.10.2"
  },
  "orig_nbformat": 4
 },
 "nbformat": 4,
 "nbformat_minor": 2
}
