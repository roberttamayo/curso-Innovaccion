{
 "cells": [
  {
   "cell_type": "markdown",
   "metadata": {},
   "source": [
    "Ciclo FOR"
   ]
  },
  {
   "cell_type": "code",
   "execution_count": 1,
   "metadata": {},
   "outputs": [
    {
     "name": "stdout",
     "output_type": "stream",
     "text": [
      "planeta 1\n",
      "planeta 2\n",
      "planeta 3\n",
      "planeta 4\n",
      "planeta 5\n",
      "planeta 6\n",
      "planeta 7\n",
      "planeta 8\n",
      "planeta 9\n",
      "planeta 10\n"
     ]
    }
   ],
   "source": [
    "planetas = [\"planeta 1\", \"planeta 2\", \"planeta 3\", \"planeta 4\", \"planeta 5\", \"planeta 6\", \"planeta 7\", \"planeta 8\", \"planeta 9\", \"planeta 10\"]\n",
    "for planeta in planetas:\n",
    "    print(planeta)"
   ]
  }
 ],
 "metadata": {
  "interpreter": {
   "hash": "da048bf40da7aee62b36dc47b6b40dcc2e039c8db37002f81ae9df102ef7b913"
  },
  "kernelspec": {
   "display_name": "Python 3.10.2 64-bit (windows store)",
   "language": "python",
   "name": "python3"
  },
  "language_info": {
   "codemirror_mode": {
    "name": "ipython",
    "version": 3
   },
   "file_extension": ".py",
   "mimetype": "text/x-python",
   "name": "python",
   "nbconvert_exporter": "python",
   "pygments_lexer": "ipython3",
   "version": "3.10.2"
  },
  "orig_nbformat": 4
 },
 "nbformat": 4,
 "nbformat_minor": 2
}
